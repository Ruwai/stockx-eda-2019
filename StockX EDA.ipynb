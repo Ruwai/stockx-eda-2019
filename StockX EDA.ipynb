{
 "cells": [
  {
   "attachments": {},
   "cell_type": "markdown",
   "metadata": {},
   "source": [
    "# Stock X Data Contest for the data nerds\n",
    "\n",
    "Your submission should consist of a single pdf file with the following items:\n",
    "\n",
    "1 chart or graph displaying your results. Do not exceed 1 chart\n",
    "A short write-up describing your analysis/results. Do not exceed 200 words\n",
    "One entry per participant\n",
    "Make sure the pdf has your name and email address somewhere on it\n",
    "\n",
    "![StockX image](https://s3.amazonaws.com/stockx-sneaker-analysis/wp-content/uploads/2019/02/StockX_Data-Contest_Logo1-1100x1118.jpg \"stockX logo\")"
   ]
  },
  {
   "cell_type": "code",
   "execution_count": 10,
   "metadata": {},
   "outputs": [
    {
     "data": {
      "text/html": [
       "<div>\n",
       "<style scoped>\n",
       "    .dataframe tbody tr th:only-of-type {\n",
       "        vertical-align: middle;\n",
       "    }\n",
       "\n",
       "    .dataframe tbody tr th {\n",
       "        vertical-align: top;\n",
       "    }\n",
       "\n",
       "    .dataframe thead th {\n",
       "        text-align: right;\n",
       "    }\n",
       "</style>\n",
       "<table border=\"1\" class=\"dataframe\">\n",
       "  <thead>\n",
       "    <tr style=\"text-align: right;\">\n",
       "      <th></th>\n",
       "      <th>Order Date</th>\n",
       "      <th>Brand</th>\n",
       "      <th>Sneaker Name</th>\n",
       "      <th>Sale Price</th>\n",
       "      <th>Retail Price</th>\n",
       "      <th>Release Date</th>\n",
       "      <th>Shoe Size</th>\n",
       "      <th>Buyer Region</th>\n",
       "    </tr>\n",
       "  </thead>\n",
       "  <tbody>\n",
       "    <tr>\n",
       "      <th>0</th>\n",
       "      <td>2017-09-01</td>\n",
       "      <td>Yeezy</td>\n",
       "      <td>Adidas-Yeezy-Boost-350-Low-V2-Beluga</td>\n",
       "      <td>1097.0</td>\n",
       "      <td>220</td>\n",
       "      <td>2016-09-24</td>\n",
       "      <td>11.0</td>\n",
       "      <td>California</td>\n",
       "    </tr>\n",
       "    <tr>\n",
       "      <th>1</th>\n",
       "      <td>2017-09-01</td>\n",
       "      <td>Yeezy</td>\n",
       "      <td>Adidas-Yeezy-Boost-350-V2-Core-Black-Copper</td>\n",
       "      <td>685.0</td>\n",
       "      <td>220</td>\n",
       "      <td>2016-11-23</td>\n",
       "      <td>11.0</td>\n",
       "      <td>California</td>\n",
       "    </tr>\n",
       "    <tr>\n",
       "      <th>2</th>\n",
       "      <td>2017-09-01</td>\n",
       "      <td>Yeezy</td>\n",
       "      <td>Adidas-Yeezy-Boost-350-V2-Core-Black-Green</td>\n",
       "      <td>690.0</td>\n",
       "      <td>220</td>\n",
       "      <td>2016-11-23</td>\n",
       "      <td>11.0</td>\n",
       "      <td>California</td>\n",
       "    </tr>\n",
       "    <tr>\n",
       "      <th>3</th>\n",
       "      <td>2017-09-01</td>\n",
       "      <td>Yeezy</td>\n",
       "      <td>Adidas-Yeezy-Boost-350-V2-Core-Black-Red</td>\n",
       "      <td>1075.0</td>\n",
       "      <td>220</td>\n",
       "      <td>2016-11-23</td>\n",
       "      <td>11.5</td>\n",
       "      <td>Kentucky</td>\n",
       "    </tr>\n",
       "    <tr>\n",
       "      <th>4</th>\n",
       "      <td>2017-09-01</td>\n",
       "      <td>Yeezy</td>\n",
       "      <td>Adidas-Yeezy-Boost-350-V2-Core-Black-Red-2017</td>\n",
       "      <td>828.0</td>\n",
       "      <td>220</td>\n",
       "      <td>2017-02-11</td>\n",
       "      <td>11.0</td>\n",
       "      <td>Rhode Island</td>\n",
       "    </tr>\n",
       "  </tbody>\n",
       "</table>\n",
       "</div>"
      ],
      "text/plain": [
       "  Order Date   Brand                                   Sneaker Name  \\\n",
       "0 2017-09-01   Yeezy           Adidas-Yeezy-Boost-350-Low-V2-Beluga   \n",
       "1 2017-09-01   Yeezy    Adidas-Yeezy-Boost-350-V2-Core-Black-Copper   \n",
       "2 2017-09-01   Yeezy     Adidas-Yeezy-Boost-350-V2-Core-Black-Green   \n",
       "3 2017-09-01   Yeezy       Adidas-Yeezy-Boost-350-V2-Core-Black-Red   \n",
       "4 2017-09-01   Yeezy  Adidas-Yeezy-Boost-350-V2-Core-Black-Red-2017   \n",
       "\n",
       "   Sale Price  Retail Price Release Date  Shoe Size  Buyer Region  \n",
       "0      1097.0           220   2016-09-24       11.0    California  \n",
       "1       685.0           220   2016-11-23       11.0    California  \n",
       "2       690.0           220   2016-11-23       11.0    California  \n",
       "3      1075.0           220   2016-11-23       11.5      Kentucky  \n",
       "4       828.0           220   2017-02-11       11.0  Rhode Island  "
      ]
     },
     "execution_count": 10,
     "metadata": {},
     "output_type": "execute_result"
    }
   ],
   "source": [
    "import numpy as np\n",
    "import pandas as pd\n",
    "import seaborn as sns\n",
    "import matplotlib.pyplot as plt\n",
    "from scipy import stats\n",
    "import plotly.plotly as py\n",
    "import plotly.graph_objs as go\n",
    "import plotly.tools as tls\n",
    "import colorlover as cl\n",
    "\n",
    "#####################################################\n",
    "#####################################################\n",
    "\n",
    "                ##### STOCK X #####\n",
    "                     # DATA #\n",
    "                #### CHALLENGE ####\n",
    "            \n",
    "#####################################################\n",
    "#####################################################\n",
    "\n",
    "path = 'https://s3.amazonaws.com/stockx-sneaker-analysis/wp-content/uploads/2019/02/StockX-Data-Contest-2019.xlsx'\n",
    "\n",
    "df = pd.read_excel(path, sheet_name=1)\n",
    "\n",
    "df.head()"
   ]
  },
  {
   "cell_type": "code",
   "execution_count": 9,
   "metadata": {},
   "outputs": [
    {
     "data": {
      "text/plain": [
       "pandas.core.frame.DataFrame"
      ]
     },
     "execution_count": 9,
     "metadata": {},
     "output_type": "execute_result"
    }
   ],
   "source": [
    "type(df)"
   ]
  },
  {
   "cell_type": "code",
   "execution_count": 11,
   "metadata": {},
   "outputs": [
    {
     "data": {
      "text/html": [
       "<div>\n",
       "<style scoped>\n",
       "    .dataframe tbody tr th:only-of-type {\n",
       "        vertical-align: middle;\n",
       "    }\n",
       "\n",
       "    .dataframe tbody tr th {\n",
       "        vertical-align: top;\n",
       "    }\n",
       "\n",
       "    .dataframe thead th {\n",
       "        text-align: right;\n",
       "    }\n",
       "</style>\n",
       "<table border=\"1\" class=\"dataframe\">\n",
       "  <thead>\n",
       "    <tr style=\"text-align: right;\">\n",
       "      <th></th>\n",
       "      <th>Sale Price</th>\n",
       "      <th>Retail Price</th>\n",
       "      <th>Shoe Size</th>\n",
       "    </tr>\n",
       "  </thead>\n",
       "  <tbody>\n",
       "    <tr>\n",
       "      <th>Sale Price</th>\n",
       "      <td>1.000000</td>\n",
       "      <td>-0.361549</td>\n",
       "      <td>0.082795</td>\n",
       "    </tr>\n",
       "    <tr>\n",
       "      <th>Retail Price</th>\n",
       "      <td>-0.361549</td>\n",
       "      <td>1.000000</td>\n",
       "      <td>-0.052798</td>\n",
       "    </tr>\n",
       "    <tr>\n",
       "      <th>Shoe Size</th>\n",
       "      <td>0.082795</td>\n",
       "      <td>-0.052798</td>\n",
       "      <td>1.000000</td>\n",
       "    </tr>\n",
       "  </tbody>\n",
       "</table>\n",
       "</div>"
      ],
      "text/plain": [
       "              Sale Price  Retail Price  Shoe Size\n",
       "Sale Price      1.000000     -0.361549   0.082795\n",
       "Retail Price   -0.361549      1.000000  -0.052798\n",
       "Shoe Size       0.082795     -0.052798   1.000000"
      ]
     },
     "execution_count": 11,
     "metadata": {},
     "output_type": "execute_result"
    }
   ],
   "source": [
    "df.corr()"
   ]
  },
  {
   "cell_type": "markdown",
   "metadata": {},
   "source": [
    "## From the blog post \n",
    "The data we’re giving you consists of a random sample of all Off-White x Nike and Yeezy 350 sales from between 9/1/2017 (the month that Off-White first debuted “The Ten” collection) and the present. There are 99,956 total sales in the data set; 27,794 Off-White sales, and 72,162 Yeezy sales. The sample consists of U.S. sales only.\n",
    "\n",
    "To create this sample, we took a random, fixed percentage of StockX sales (X%) for each colorway, on each day, since September 2017. So, for each day the Off-White Jordan 1 was on the market, we randomly selected X% of its sale from each day. (It’s not important to know what X is; all that matters is that it’s a random sample, and that the same fixed X% of sales was selected from every day, for every sneaker).\n",
    "\n",
    "We’ve included 8 variables for you to work with: Order Date, Brand, Sneaker Name, Sale Price ($), Retail Price ($), Release Date, Shoe Size, and Buyer State (the U.S. state the buyer shipped to). You can use whatever variables you want in the analysis; you can use 1 variable, or you can use all 8. And remember, every row in the spreadsheet represents an individual StockX sale. There are no averages or order counts; this is just a random sample of daily sales data"
   ]
  },
  {
   "cell_type": "code",
   "execution_count": 25,
   "metadata": {},
   "outputs": [
    {
     "name": "stdout",
     "output_type": "stream",
     "text": [
      "Shape of Off-White dataframe : (27794, 8)\n",
      "Shape of Yeezy dataframe : (72162, 8)\n"
     ]
    }
   ],
   "source": [
    "## Creating data frames for yeezys and offwhite shoes\n",
    "\n",
    "off_white = df.copy()\n",
    "off_white = off_white[off_white['Brand'].isin(['Off-White'])]\n",
    "\n",
    "yeezy = df.copy()\n",
    "yeezy = yeezy[yeezy['Brand'].isin([' Yeezy'])]\n",
    "\n",
    "print('Shape of Off-White dataframe : {}'.format(off_white.shape))\n",
    "print('Shape of Yeezy dataframe : {}'.format(yeezy.shape))"
   ]
  },
  {
   "cell_type": "code",
   "execution_count": 27,
   "metadata": {},
   "outputs": [
    {
     "data": {
      "text/plain": [
       "array([' Yeezy', 'Off-White'], dtype=object)"
      ]
     },
     "execution_count": 27,
     "metadata": {},
     "output_type": "execute_result"
    }
   ],
   "source": [
    "#lmao this dataframe is only yeezys and offwhite i dig it\n",
    "df['Brand'].unique()"
   ]
  },
  {
   "cell_type": "code",
   "execution_count": 28,
   "metadata": {},
   "outputs": [
    {
     "data": {
      "text/plain": [
       "array(['Adidas-Yeezy-Boost-350-Low-V2-Beluga',\n",
       "       'Adidas-Yeezy-Boost-350-V2-Core-Black-Copper',\n",
       "       'Adidas-Yeezy-Boost-350-V2-Core-Black-Green',\n",
       "       'Adidas-Yeezy-Boost-350-V2-Core-Black-Red',\n",
       "       'Adidas-Yeezy-Boost-350-V2-Core-Black-Red-2017',\n",
       "       'Adidas-Yeezy-Boost-350-V2-Core-Black-White',\n",
       "       'Adidas-Yeezy-Boost-350-V2-Cream-White',\n",
       "       'Adidas-Yeezy-Boost-350-V2-Zebra',\n",
       "       'Adidas-Yeezy-Boost-350-Low-Moonrock',\n",
       "       'Adidas-Yeezy-Boost-350-Low-Pirate-Black-2016',\n",
       "       'Adidas-Yeezy-Boost-350-Low-Oxford-Tan',\n",
       "       'Adidas-Yeezy-Boost-350-Low-Turtledove',\n",
       "       'Adidas-Yeezy-Boost-350-Low-Pirate-Black-2015',\n",
       "       'Adidas-Yeezy-Boost-350-V2-Semi-Frozen-Yellow',\n",
       "       'Adidas-Yeezy-Boost-350-V2-Beluga-2pt0',\n",
       "       'Adidas-Yeezy-Boost-350-V2-Blue-Tint',\n",
       "       'adidas-Yeezy-Boost-350-V2-Butter',\n",
       "       'Adidas-Yeezy-Boost-350-V2-Sesame',\n",
       "       'adidas-Yeezy-Boost-350-V2-Static',\n",
       "       'adidas-Yeezy-Boost-350-V2-Static-Reflective'], dtype=object)"
      ]
     },
     "execution_count": 28,
     "metadata": {},
     "output_type": "execute_result"
    }
   ],
   "source": [
    "yeezy['Sneaker Name'].unique()"
   ]
  },
  {
   "cell_type": "code",
   "execution_count": 29,
   "metadata": {},
   "outputs": [
    {
     "data": {
      "text/plain": [
       "array(['Nike-Air-Max-90-Off-White', 'Nike-Air-Presto-Off-White',\n",
       "       'Nike-Air-VaporMax-Off-White',\n",
       "       'Air-Jordan-1-Retro-High-Off-White-Chicago',\n",
       "       'Nike-Blazer-Mid-Off-White', 'Nike-Air-Force-1-Low-Off-White',\n",
       "       'Nike-Air-Max-97-Off-White',\n",
       "       'Nike-Air-Force-1-Low-Virgil-Abloh-Off-White-AF100',\n",
       "       'Nike-React-Hyperdunk-2017-Flyknit-Off-White',\n",
       "       'Nike-Zoom-Fly-Off-White', 'Nike-Air-VaporMax-Off-White-2018',\n",
       "       'Air-Jordan-1-Retro-High-Off-White-White',\n",
       "       'Nike-Air-VaporMax-Off-White-Black',\n",
       "       'Air-Jordan-1-Retro-High-Off-White-University-Blue',\n",
       "       'Nike-Air-Presto-Off-White-Black-2018',\n",
       "       'Nike-Air-Presto-Off-White-White-2018',\n",
       "       'Nike-Zoom-Fly-Mercurial-Off-White-Black',\n",
       "       'Nike-Zoom-Fly-Mercurial-Off-White-Total-Orange',\n",
       "       'Nike-Air-Max-97-Off-White-Elemental-Rose-Queen',\n",
       "       'Nike-Blazer-Mid-Off-White-All-Hallows-Eve',\n",
       "       'Nike-Blazer-Mid-Off-White-Grim-Reaper',\n",
       "       'Nike-Blazer-Mid-Off-White-Wolf-Grey',\n",
       "       'Nike-Air-Max-97-Off-White-Menta',\n",
       "       'Nike-Air-Max-97-Off-White-Black',\n",
       "       'Nike-Zoom-Fly-Off-White-Black-Silver',\n",
       "       'Nike-Zoom-Fly-Off-White-Pink',\n",
       "       'Nike-Air-Force-1-Low-Off-White-Volt',\n",
       "       'Nike-Air-Force-1-Low-Off-White-Black-White',\n",
       "       'Nike-Air-Max-90-Off-White-Black',\n",
       "       'Nike-Air-Max-90-Off-White-Desert-Ore'], dtype=object)"
      ]
     },
     "execution_count": 29,
     "metadata": {},
     "output_type": "execute_result"
    }
   ],
   "source": [
    "off_white['Sneaker Name'].unique()"
   ]
  },
  {
   "cell_type": "markdown",
   "metadata": {},
   "source": [
    "# Ideas for graphs/charts/trends to explore\n",
    "\n",
    "- Region/Map of where the most buyers are for yeezys vs. offwhite sneakers\n",
    "- and what does the this trend ^ explain about the economy in that state or how much disposable income people have to be spending $1,000 on a pair of sneakers LOL\n",
    "- Another trend: what sneakers are more popular? Kind of obvious because there are almost 3X as many yeezys sold than offwhite in the entire dataset\n",
    "- Another good one would be to look at the difference between resale prices for the shoes?\n",
    "- Also how the resale prices change over time\n",
    "- Do the shoes appreciate? or do they not?\n",
    "\n",
    "## After brainstorming:\n",
    "\n",
    "- Has 'The Ten' Appreciated or Depreciated in the last year?\n",
    "- Have Yeezys gone downhill?"
   ]
  },
  {
   "cell_type": "code",
   "execution_count": 32,
   "metadata": {},
   "outputs": [
    {
     "data": {
      "text/html": [
       "<div>\n",
       "<style scoped>\n",
       "    .dataframe tbody tr th:only-of-type {\n",
       "        vertical-align: middle;\n",
       "    }\n",
       "\n",
       "    .dataframe tbody tr th {\n",
       "        vertical-align: top;\n",
       "    }\n",
       "\n",
       "    .dataframe thead th {\n",
       "        text-align: right;\n",
       "    }\n",
       "</style>\n",
       "<table border=\"1\" class=\"dataframe\">\n",
       "  <thead>\n",
       "    <tr style=\"text-align: right;\">\n",
       "      <th></th>\n",
       "      <th>Order Date</th>\n",
       "      <th>Brand</th>\n",
       "      <th>Sneaker Name</th>\n",
       "      <th>Sale Price</th>\n",
       "      <th>Retail Price</th>\n",
       "      <th>Release Date</th>\n",
       "      <th>Shoe Size</th>\n",
       "      <th>Buyer Region</th>\n",
       "    </tr>\n",
       "  </thead>\n",
       "  <tbody>\n",
       "    <tr>\n",
       "      <th>128</th>\n",
       "      <td>2017-09-07</td>\n",
       "      <td>Off-White</td>\n",
       "      <td>Nike-Air-Max-90-Off-White</td>\n",
       "      <td>1600.0</td>\n",
       "      <td>160</td>\n",
       "      <td>2017-09-09</td>\n",
       "      <td>8.0</td>\n",
       "      <td>California</td>\n",
       "    </tr>\n",
       "    <tr>\n",
       "      <th>129</th>\n",
       "      <td>2017-09-07</td>\n",
       "      <td>Off-White</td>\n",
       "      <td>Nike-Air-Max-90-Off-White</td>\n",
       "      <td>1090.0</td>\n",
       "      <td>160</td>\n",
       "      <td>2017-09-09</td>\n",
       "      <td>11.5</td>\n",
       "      <td>New York</td>\n",
       "    </tr>\n",
       "    <tr>\n",
       "      <th>130</th>\n",
       "      <td>2017-09-07</td>\n",
       "      <td>Off-White</td>\n",
       "      <td>Nike-Air-Presto-Off-White</td>\n",
       "      <td>1344.0</td>\n",
       "      <td>160</td>\n",
       "      <td>2017-09-09</td>\n",
       "      <td>10.0</td>\n",
       "      <td>New York</td>\n",
       "    </tr>\n",
       "    <tr>\n",
       "      <th>131</th>\n",
       "      <td>2017-09-07</td>\n",
       "      <td>Off-White</td>\n",
       "      <td>Nike-Air-Presto-Off-White</td>\n",
       "      <td>1325.0</td>\n",
       "      <td>160</td>\n",
       "      <td>2017-09-09</td>\n",
       "      <td>10.0</td>\n",
       "      <td>Massachusetts</td>\n",
       "    </tr>\n",
       "    <tr>\n",
       "      <th>132</th>\n",
       "      <td>2017-09-07</td>\n",
       "      <td>Off-White</td>\n",
       "      <td>Nike-Air-VaporMax-Off-White</td>\n",
       "      <td>1800.0</td>\n",
       "      <td>250</td>\n",
       "      <td>2017-09-09</td>\n",
       "      <td>12.0</td>\n",
       "      <td>Kentucky</td>\n",
       "    </tr>\n",
       "  </tbody>\n",
       "</table>\n",
       "</div>"
      ],
      "text/plain": [
       "    Order Date      Brand                 Sneaker Name  Sale Price  \\\n",
       "128 2017-09-07  Off-White    Nike-Air-Max-90-Off-White      1600.0   \n",
       "129 2017-09-07  Off-White    Nike-Air-Max-90-Off-White      1090.0   \n",
       "130 2017-09-07  Off-White    Nike-Air-Presto-Off-White      1344.0   \n",
       "131 2017-09-07  Off-White    Nike-Air-Presto-Off-White      1325.0   \n",
       "132 2017-09-07  Off-White  Nike-Air-VaporMax-Off-White      1800.0   \n",
       "\n",
       "     Retail Price Release Date  Shoe Size   Buyer Region  \n",
       "128           160   2017-09-09        8.0     California  \n",
       "129           160   2017-09-09       11.5       New York  \n",
       "130           160   2017-09-09       10.0       New York  \n",
       "131           160   2017-09-09       10.0  Massachusetts  \n",
       "132           250   2017-09-09       12.0       Kentucky  "
      ]
     },
     "execution_count": 32,
     "metadata": {},
     "output_type": "execute_result"
    }
   ],
   "source": [
    "the_ten = off_white.copy()\n",
    "\n",
    "the_ten = the_ten[the_ten['Sneaker Name'].isin([\n",
    "    'Air-Jordan-1-Retro-High-Off-White-Chicago',\n",
    "    'Nike-Blazer-Mid-Off-White',\n",
    "    'Nike-Air-VaporMax-Off-White',\n",
    "    'Nike-Air-Presto-Off-White',\n",
    "    'Nike-Air-Max-90-Off-White',\n",
    "    'Nike-Air-Force-1-Low-Off-White',\n",
    "    'Nike-Air-Max-97-Off-White',\n",
    "    'Nike-Air-Force-1-Low-Virgil-Abloh-Off-White-AF100',\n",
    "    'Nike-React-Hyperdunk-2017-Flyknit-Off-White',\n",
    "    'Nike-Zoom-Fly-Off-White' \n",
    "])]\n",
    "the_ten.head()"
   ]
  },
  {
   "cell_type": "code",
   "execution_count": 35,
   "metadata": {},
   "outputs": [
    {
     "data": {
      "text/html": [
       "<div>\n",
       "<style scoped>\n",
       "    .dataframe tbody tr th:only-of-type {\n",
       "        vertical-align: middle;\n",
       "    }\n",
       "\n",
       "    .dataframe tbody tr th {\n",
       "        vertical-align: top;\n",
       "    }\n",
       "\n",
       "    .dataframe thead th {\n",
       "        text-align: right;\n",
       "    }\n",
       "</style>\n",
       "<table border=\"1\" class=\"dataframe\">\n",
       "  <thead>\n",
       "    <tr style=\"text-align: right;\">\n",
       "      <th></th>\n",
       "      <th>Order Date</th>\n",
       "      <th>Brand</th>\n",
       "      <th>Sneaker Name</th>\n",
       "      <th>Sale Price</th>\n",
       "      <th>Retail Price</th>\n",
       "      <th>Release Date</th>\n",
       "      <th>Shoe Size</th>\n",
       "      <th>Buyer Region</th>\n",
       "    </tr>\n",
       "  </thead>\n",
       "  <tbody>\n",
       "    <tr>\n",
       "      <th>99510</th>\n",
       "      <td>2019-02-12</td>\n",
       "      <td>Off-White</td>\n",
       "      <td>Nike-Zoom-Fly-Off-White</td>\n",
       "      <td>821.0</td>\n",
       "      <td>170</td>\n",
       "      <td>2017-11-01</td>\n",
       "      <td>10.0</td>\n",
       "      <td>Oregon</td>\n",
       "    </tr>\n",
       "    <tr>\n",
       "      <th>99737</th>\n",
       "      <td>2019-02-13</td>\n",
       "      <td>Off-White</td>\n",
       "      <td>Air-Jordan-1-Retro-High-Off-White-Chicago</td>\n",
       "      <td>2550.0</td>\n",
       "      <td>190</td>\n",
       "      <td>2017-09-09</td>\n",
       "      <td>11.0</td>\n",
       "      <td>Oregon</td>\n",
       "    </tr>\n",
       "    <tr>\n",
       "      <th>99742</th>\n",
       "      <td>2019-02-13</td>\n",
       "      <td>Off-White</td>\n",
       "      <td>Nike-Air-Force-1-Low-Off-White</td>\n",
       "      <td>1315.0</td>\n",
       "      <td>170</td>\n",
       "      <td>2017-11-01</td>\n",
       "      <td>11.0</td>\n",
       "      <td>California</td>\n",
       "    </tr>\n",
       "    <tr>\n",
       "      <th>99842</th>\n",
       "      <td>2019-02-13</td>\n",
       "      <td>Off-White</td>\n",
       "      <td>Nike-Air-Presto-Off-White</td>\n",
       "      <td>1700.0</td>\n",
       "      <td>160</td>\n",
       "      <td>2017-09-09</td>\n",
       "      <td>10.0</td>\n",
       "      <td>California</td>\n",
       "    </tr>\n",
       "    <tr>\n",
       "      <th>99858</th>\n",
       "      <td>2019-02-13</td>\n",
       "      <td>Off-White</td>\n",
       "      <td>Nike-React-Hyperdunk-2017-Flyknit-Off-White</td>\n",
       "      <td>767.0</td>\n",
       "      <td>200</td>\n",
       "      <td>2017-11-01</td>\n",
       "      <td>11.0</td>\n",
       "      <td>California</td>\n",
       "    </tr>\n",
       "  </tbody>\n",
       "</table>\n",
       "</div>"
      ],
      "text/plain": [
       "      Order Date      Brand                                 Sneaker Name  \\\n",
       "99510 2019-02-12  Off-White                      Nike-Zoom-Fly-Off-White   \n",
       "99737 2019-02-13  Off-White    Air-Jordan-1-Retro-High-Off-White-Chicago   \n",
       "99742 2019-02-13  Off-White               Nike-Air-Force-1-Low-Off-White   \n",
       "99842 2019-02-13  Off-White                    Nike-Air-Presto-Off-White   \n",
       "99858 2019-02-13  Off-White  Nike-React-Hyperdunk-2017-Flyknit-Off-White   \n",
       "\n",
       "       Sale Price  Retail Price Release Date  Shoe Size Buyer Region  \n",
       "99510       821.0           170   2017-11-01       10.0       Oregon  \n",
       "99737      2550.0           190   2017-09-09       11.0       Oregon  \n",
       "99742      1315.0           170   2017-11-01       11.0   California  \n",
       "99842      1700.0           160   2017-09-09       10.0   California  \n",
       "99858       767.0           200   2017-11-01       11.0   California  "
      ]
     },
     "execution_count": 35,
     "metadata": {},
     "output_type": "execute_result"
    }
   ],
   "source": [
    "the_ten.tail()"
   ]
  },
  {
   "cell_type": "markdown",
   "metadata": {},
   "source": [
    "# Apparently highsnobiety already made an article on the appreciation of Off White sneakers, so i'm going to do something different lmao\n",
    "\n",
    "\n",
    "## here's a link to it\n",
    "\n",
    "\n",
    "https://www.highsnobiety.com/p/off-white-nike-resell-price-analysis/\n",
    "\n"
   ]
  },
  {
   "cell_type": "code",
   "execution_count": null,
   "metadata": {},
   "outputs": [],
   "source": []
  }
 ],
 "metadata": {
  "kernelspec": {
   "display_name": "Python 3",
   "language": "python",
   "name": "python3"
  },
  "language_info": {
   "codemirror_mode": {
    "name": "ipython",
    "version": 3
   },
   "file_extension": ".py",
   "mimetype": "text/x-python",
   "name": "python",
   "nbconvert_exporter": "python",
   "pygments_lexer": "ipython3",
   "version": "3.7.1"
  }
 },
 "nbformat": 4,
 "nbformat_minor": 2
}
